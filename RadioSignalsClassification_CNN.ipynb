{
  "nbformat": 4,
  "nbformat_minor": 0,
  "metadata": {
    "colab": {
      "provenance": [],
      "gpuType": "T4",
      "authorship_tag": "ABX9TyMnQ/R2SjjFEs7ZR83rmL7t"
    },
    "kernelspec": {
      "name": "python3",
      "display_name": "Python 3"
    },
    "language_info": {
      "name": "python"
    },
    "accelerator": "GPU"
  },
  "cells": [
    {
      "cell_type": "markdown",
      "source": [
        "#classify the radio signals from outer space into one of four classes."
      ],
      "metadata": {
        "id": "tFn5MCi8ZSYY"
      }
    },
    {
      "cell_type": "markdown",
      "source": [
        "###Retrieve the signals data"
      ],
      "metadata": {
        "id": "aZPzbk2OLYmB"
      }
    },
    {
      "cell_type": "code",
      "source": [],
      "metadata": {
        "id": "fiL23c35ZYSz"
      },
      "execution_count": null,
      "outputs": []
    },
    {
      "cell_type": "markdown",
      "source": [],
      "metadata": {
        "id": "FIt-RTEAZRuL"
      }
    },
    {
      "cell_type": "markdown",
      "source": [],
      "metadata": {
        "id": "wf1sBQ6lZJS0"
      }
    }
  ]
}